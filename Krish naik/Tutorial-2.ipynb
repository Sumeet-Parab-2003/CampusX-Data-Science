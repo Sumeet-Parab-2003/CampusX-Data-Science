{
 "cells": [
  {
   "cell_type": "code",
   "execution_count": 35,
   "id": "68d456fb",
   "metadata": {},
   "outputs": [
    {
     "data": {
      "text/plain": [
       "'Sumeet Parab1'"
      ]
     },
     "execution_count": 35,
     "metadata": {},
     "output_type": "execute_result"
    }
   ],
   "source": [
    "a = \"Sumeet Parab1\"\n",
    "a"
   ]
  },
  {
   "cell_type": "code",
   "execution_count": 27,
   "id": "67081a54",
   "metadata": {},
   "outputs": [
    {
     "data": {
      "text/plain": [
       "False"
      ]
     },
     "execution_count": 27,
     "metadata": {},
     "output_type": "execute_result"
    }
   ],
   "source": [
    "a.isalnum()  # Checks if all char in string are numbers"
   ]
  },
  {
   "cell_type": "code",
   "execution_count": 28,
   "id": "4268278c",
   "metadata": {},
   "outputs": [
    {
     "data": {
      "text/plain": [
       "False"
      ]
     },
     "execution_count": 28,
     "metadata": {},
     "output_type": "execute_result"
    }
   ],
   "source": [
    "a.isalpha()  # Checks if all char in string are numbers"
   ]
  },
  {
   "cell_type": "code",
   "execution_count": 30,
   "id": "53a7531e",
   "metadata": {},
   "outputs": [
    {
     "data": {
      "text/plain": [
       "False"
      ]
     },
     "execution_count": 30,
     "metadata": {},
     "output_type": "execute_result"
    }
   ],
   "source": [
    "a.isdigit()  # Checks if string contains any digit"
   ]
  },
  {
   "cell_type": "code",
   "execution_count": 31,
   "id": "0b9a2459",
   "metadata": {},
   "outputs": [
    {
     "data": {
      "text/plain": [
       "True"
      ]
     },
     "execution_count": 31,
     "metadata": {},
     "output_type": "execute_result"
    }
   ],
   "source": [
    "a.istitle()  # Checks if strings first character is in UpperCase"
   ]
  },
  {
   "cell_type": "code",
   "execution_count": 36,
   "id": "c88a9ffe",
   "metadata": {},
   "outputs": [
    {
     "data": {
      "text/plain": [
       "False"
      ]
     },
     "execution_count": 36,
     "metadata": {},
     "output_type": "execute_result"
    }
   ],
   "source": [
    "a.isupper()  # Checks if strings all char are UpperCase"
   ]
  },
  {
   "cell_type": "code",
   "execution_count": 38,
   "id": "d1998458",
   "metadata": {},
   "outputs": [
    {
     "data": {
      "text/plain": [
       "False"
      ]
     },
     "execution_count": 38,
     "metadata": {},
     "output_type": "execute_result"
    }
   ],
   "source": [
    "a.islower()  # Checks if strings all char are LowerCase"
   ]
  },
  {
   "cell_type": "code",
   "execution_count": 40,
   "id": "cefa15a3",
   "metadata": {},
   "outputs": [
    {
     "name": "stdout",
     "output_type": "stream",
     "text": [
      "True\n",
      "False\n"
     ]
    }
   ],
   "source": [
    "print(a.startswith('S'))  #checks if  string starts with 'given char'.\n",
    "print(a.startswith('s'))  #Its case sensitive"
   ]
  },
  {
   "cell_type": "code",
   "execution_count": 42,
   "id": "19d47544",
   "metadata": {},
   "outputs": [
    {
     "name": "stdout",
     "output_type": "stream",
     "text": [
      "False\n",
      "True\n"
     ]
    }
   ],
   "source": [
    "print(a.endswith('B'))  #checks if  string starts with 'given char'.\n",
    "print(a.endswith('1'))  #Its case sensitive"
   ]
  },
  {
   "cell_type": "code",
   "execution_count": null,
   "id": "ea3cf3d9",
   "metadata": {},
   "outputs": [],
   "source": []
  }
 ],
 "metadata": {
  "kernelspec": {
   "display_name": "Python 3 (ipykernel)",
   "language": "python",
   "name": "python3"
  },
  "language_info": {
   "codemirror_mode": {
    "name": "ipython",
    "version": 3
   },
   "file_extension": ".py",
   "mimetype": "text/x-python",
   "name": "python",
   "nbconvert_exporter": "python",
   "pygments_lexer": "ipython3",
   "version": "3.11.4"
  }
 },
 "nbformat": 4,
 "nbformat_minor": 5
}
