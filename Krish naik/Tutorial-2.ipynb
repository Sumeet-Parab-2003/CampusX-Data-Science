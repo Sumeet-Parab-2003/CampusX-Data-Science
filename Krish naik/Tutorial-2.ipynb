{
 "cells": [
  {
   "cell_type": "code",
   "execution_count": 35,
   "id": "e2dbddf8",
   "metadata": {},
   "outputs": [
    {
     "data": {
      "text/plain": [
       "'Sumeet Parab1'"
      ]
     },
     "execution_count": 35,
     "metadata": {},
     "output_type": "execute_result"
    }
   ],
   "source": [
    "a = \"Sumeet Parab1\"\n",
    "a"
   ]
  },
  {
   "cell_type": "code",
   "execution_count": 27,
   "id": "b087075c",
   "metadata": {},
   "outputs": [
    {
     "data": {
      "text/plain": [
       "False"
      ]
     },
     "execution_count": 27,
     "metadata": {},
     "output_type": "execute_result"
    }
   ],
   "source": [
    "a.isalnum()  # Checks if all char in string are numbers"
   ]
  },
  {
   "cell_type": "code",
   "execution_count": 28,
   "id": "b8140612",
   "metadata": {},
   "outputs": [
    {
     "data": {
      "text/plain": [
       "False"
      ]
     },
     "execution_count": 28,
     "metadata": {},
     "output_type": "execute_result"
    }
   ],
   "source": [
    "a.isalpha()  # Checks if all char in string are numbers"
   ]
  },
  {
   "cell_type": "code",
   "execution_count": 30,
   "id": "c2a01441",
   "metadata": {},
   "outputs": [
    {
     "data": {
      "text/plain": [
       "False"
      ]
     },
     "execution_count": 30,
     "metadata": {},
     "output_type": "execute_result"
    }
   ],
   "source": [
    "a.isdigit()  # Checks if string contains any digit"
   ]
  },
  {
   "cell_type": "code",
   "execution_count": 31,
   "id": "ffc40a95",
   "metadata": {},
   "outputs": [
    {
     "data": {
      "text/plain": [
       "True"
      ]
     },
     "execution_count": 31,
     "metadata": {},
     "output_type": "execute_result"
    }
   ],
   "source": [
    "a.istitle()  # Checks if strings first character is in UpperCase"
   ]
  },
  {
   "cell_type": "code",
   "execution_count": 36,
   "id": "2c0998d8",
   "metadata": {},
   "outputs": [
    {
     "data": {
      "text/plain": [
       "False"
      ]
     },
     "execution_count": 36,
     "metadata": {},
     "output_type": "execute_result"
    }
   ],
   "source": [
    "a.isupper()  # Checks if strings all char are UpperCase"
   ]
  },
  {
   "cell_type": "code",
   "execution_count": 38,
   "id": "c61691f9",
   "metadata": {},
   "outputs": [
    {
     "data": {
      "text/plain": [
       "False"
      ]
     },
     "execution_count": 38,
     "metadata": {},
     "output_type": "execute_result"
    }
   ],
   "source": [
    "a.islower()  # Checks if strings all char are LowerCase"
   ]
  },
  {
   "cell_type": "code",
   "execution_count": 40,
   "id": "08c99691",
   "metadata": {},
   "outputs": [
    {
     "name": "stdout",
     "output_type": "stream",
     "text": [
      "True\n",
      "False\n"
     ]
    }
   ],
   "source": [
    "print(a.startswith('S'))  #checks if  string starts with 'given char'.\n",
    "print(a.startswith('s'))  #Its case sensitive"
   ]
  },
  {
   "cell_type": "code",
   "execution_count": 42,
   "id": "d23ff589",
   "metadata": {},
   "outputs": [
    {
     "name": "stdout",
     "output_type": "stream",
     "text": [
      "False\n",
      "True\n"
     ]
    }
   ],
   "source": [
    "print(a.endswith('B'))  #checks if  string starts with 'given char'.\n",
    "print(a.endswith('1'))  #Its case sensitive"
   ]
  },
  {
   "cell_type": "markdown",
   "id": "5579f105",
   "metadata": {},
   "source": [
    "# List\n",
    "* A list is a data structure in Python that is a mutable, or changeable, ordered sequence of elements. Each element or value that is inside of a list is called an item. Just as strings are defined as characters between quotes, lists are defined by having values between square brackets [ ]"
   ]
  },
  {
   "cell_type": "code",
   "execution_count": 46,
   "id": "c279af1f",
   "metadata": {},
   "outputs": [
    {
     "data": {
      "text/plain": [
       "list"
      ]
     },
     "execution_count": 46,
     "metadata": {},
     "output_type": "execute_result"
    }
   ],
   "source": [
    "b = []\n",
    "type(b)"
   ]
  },
  {
   "cell_type": "code",
   "execution_count": 58,
   "id": "68c1e18e",
   "metadata": {},
   "outputs": [
    {
     "data": {
      "text/plain": [
       "['Sumeet', 'Parab', 2, 3, 4, 'Sumeet Parab 2003']"
      ]
     },
     "execution_count": 58,
     "metadata": {},
     "output_type": "execute_result"
    }
   ],
   "source": [
    "c = ['Sumeet', 'Parab', 2, 3, 4, \"Sumeet Parab 2003\" ]\n",
    "c"
   ]
  },
  {
   "cell_type": "markdown",
   "id": "643e4441",
   "metadata": {},
   "source": [
    "## length\n",
    "* displays the length of given variable"
   ]
  },
  {
   "cell_type": "code",
   "execution_count": 56,
   "id": "9bf27b89",
   "metadata": {},
   "outputs": [
    {
     "data": {
      "text/plain": [
       "6"
      ]
     },
     "execution_count": 56,
     "metadata": {},
     "output_type": "execute_result"
    }
   ],
   "source": [
    "len(c)"
   ]
  },
  {
   "cell_type": "markdown",
   "id": "ae458954",
   "metadata": {},
   "source": [
    "## Apend\n",
    "it's used to add more elements in list\n",
    "* syntax: list_var.append(\"element\",\"element\")"
   ]
  },
  {
   "cell_type": "code",
   "execution_count": 59,
   "id": "61dde08a",
   "metadata": {
    "scrolled": true
   },
   "outputs": [
    {
     "data": {
      "text/plain": [
       "['Sumeet',\n",
       " 'Parab',\n",
       " 2,\n",
       " 3,\n",
       " 4,\n",
       " 'Sumeet Parab 2003',\n",
       " 'Data Science',\n",
       " ['Machine', 'Learning']]"
      ]
     },
     "execution_count": 59,
     "metadata": {},
     "output_type": "execute_result"
    }
   ],
   "source": [
    "c.append(\"Data Science\")\n",
    "c.append(['Machine', 'Learning'])  # nested list\n",
    "c"
   ]
  },
  {
   "cell_type": "markdown",
   "id": "1747a1d0",
   "metadata": {},
   "source": [
    "## Insert\n",
    "allows user to add elements at any index value of the list\n",
    "* syntax = list_var.insert(index_value,\"element\")"
   ]
  },
  {
   "cell_type": "code",
   "execution_count": 60,
   "id": "6ddb7825",
   "metadata": {},
   "outputs": [],
   "source": [
    "c.insert(3,'Hello')"
   ]
  },
  {
   "cell_type": "code",
   "execution_count": 61,
   "id": "9ca9fc37",
   "metadata": {},
   "outputs": [
    {
     "data": {
      "text/plain": [
       "['Sumeet',\n",
       " 'Parab',\n",
       " 2,\n",
       " 'Hello',\n",
       " 3,\n",
       " 4,\n",
       " 'Sumeet Parab 2003',\n",
       " 'Data Science',\n",
       " ['Machine', 'Learning']]"
      ]
     },
     "execution_count": 61,
     "metadata": {},
     "output_type": "execute_result"
    }
   ],
   "source": [
    "c"
   ]
  },
  {
   "cell_type": "code",
   "execution_count": null,
   "id": "fa36fe74",
   "metadata": {},
   "outputs": [],
   "source": []
  }
 ],
 "metadata": {
  "kernelspec": {
   "display_name": "Python 3 (ipykernel)",
   "language": "python",
   "name": "python3"
  },
  "language_info": {
   "codemirror_mode": {
    "name": "ipython",
    "version": 3
   },
   "file_extension": ".py",
   "mimetype": "text/x-python",
   "name": "python",
   "nbconvert_exporter": "python",
   "pygments_lexer": "ipython3",
   "version": "3.11.4"
  }
 },
 "nbformat": 4,
 "nbformat_minor": 5
}
