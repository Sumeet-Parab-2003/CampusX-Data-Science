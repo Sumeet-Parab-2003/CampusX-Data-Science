{
 "cells": [
  {
   "cell_type": "markdown",
   "id": "02e3c478",
   "metadata": {},
   "source": [
    "# Different Types of Output"
   ]
  },
  {
   "cell_type": "code",
   "execution_count": 1,
   "id": "24975f4d",
   "metadata": {},
   "outputs": [
    {
     "name": "stdout",
     "output_type": "stream",
     "text": [
      "Hello World\n"
     ]
    }
   ],
   "source": [
    "print(\"Hello World\")"
   ]
  },
  {
   "cell_type": "code",
   "execution_count": 2,
   "id": "e6b9f371",
   "metadata": {},
   "outputs": [
    {
     "name": "stdout",
     "output_type": "stream",
     "text": [
      "1\n"
     ]
    }
   ],
   "source": [
    "print(1)"
   ]
  },
  {
   "cell_type": "code",
   "execution_count": 3,
   "id": "c1914e37",
   "metadata": {},
   "outputs": [
    {
     "name": "stdout",
     "output_type": "stream",
     "text": [
      "11\n"
     ]
    }
   ],
   "source": [
    "print(10+1)"
   ]
  },
  {
   "cell_type": "code",
   "execution_count": 4,
   "id": "09a9fae3",
   "metadata": {},
   "outputs": [
    {
     "name": "stdout",
     "output_type": "stream",
     "text": [
      "7.7\n"
     ]
    }
   ],
   "source": [
    "print(7.7)"
   ]
  },
  {
   "cell_type": "code",
   "execution_count": 5,
   "id": "67a88d17",
   "metadata": {},
   "outputs": [
    {
     "name": "stdout",
     "output_type": "stream",
     "text": [
      "True\n"
     ]
    }
   ],
   "source": [
    "print(True)"
   ]
  },
  {
   "cell_type": "code",
   "execution_count": 7,
   "id": "b3a752ec",
   "metadata": {},
   "outputs": [
    {
     "name": "stdout",
     "output_type": "stream",
     "text": [
      "Sumeet 4 4.4 True\n"
     ]
    }
   ],
   "source": [
    "print(\"Sumeet\",4,4.4,True)\n",
    "#here by default \"sep= \".hence, it will print spaes between the data types"
   ]
  },
  {
   "cell_type": "code",
   "execution_count": 9,
   "id": "94416153",
   "metadata": {},
   "outputs": [
    {
     "name": "stdout",
     "output_type": "stream",
     "text": [
      "Sumeet/4/4.4/True\n"
     ]
    }
   ],
   "source": [
    "print(\"Sumeet\",4,4.4,True,sep=\"/\")\n",
    "#here we've defined sep=\"/\""
   ]
  },
  {
   "cell_type": "code",
   "execution_count": null,
   "id": "57c38650",
   "metadata": {},
   "outputs": [],
   "source": []
  }
 ],
 "metadata": {
  "kernelspec": {
   "display_name": "Python 3 (ipykernel)",
   "language": "python",
   "name": "python3"
  },
  "language_info": {
   "codemirror_mode": {
    "name": "ipython",
    "version": 3
   },
   "file_extension": ".py",
   "mimetype": "text/x-python",
   "name": "python",
   "nbconvert_exporter": "python",
   "pygments_lexer": "ipython3",
   "version": "3.11.5"
  }
 },
 "nbformat": 4,
 "nbformat_minor": 5
}
