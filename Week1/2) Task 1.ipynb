{
 "cells": [
  {
   "cell_type": "markdown",
   "id": "915227e9",
   "metadata": {},
   "source": [
    "# Q1 :- Print the given strings as per stated format.\n",
    "### given"
   ]
  },
  {
   "cell_type": "code",
   "execution_count": 2,
   "id": "7a2b56de",
   "metadata": {},
   "outputs": [],
   "source": [
    "#\"Data\" \"Science\" \"Mentorship\" \"Program\" \n",
    "#\"By\" \"CampusX\""
   ]
  },
  {
   "cell_type": "code",
   "execution_count": 3,
   "id": "afba4a7d",
   "metadata": {},
   "outputs": [],
   "source": [
    "#Output\n",
    "# Data-Science-Mentorship-Program-started-By-CampusX"
   ]
  },
  {
   "cell_type": "code",
   "execution_count": 9,
   "id": "995ccb5a",
   "metadata": {},
   "outputs": [
    {
     "name": "stdout",
     "output_type": "stream",
     "text": [
      "Data-Science-Mentorship-Program-started-By-CampusX\n"
     ]
    }
   ],
   "source": [
    "print(\"Data\",\"Science\",\"Mentorship\",\"Program\",sep=\"-\",end=\"-started-\" )\n",
    "print (\"By\",\"CampusX\",sep=\"-\")"
   ]
  },
  {
   "cell_type": "markdown",
   "id": "385a073c",
   "metadata": {},
   "source": [
    "# Q2) WAP to convert celcius to farhanhite"
   ]
  },
  {
   "cell_type": "code",
   "execution_count": 16,
   "id": "7ff1cf50",
   "metadata": {},
   "outputs": [
    {
     "name": "stdout",
     "output_type": "stream",
     "text": [
      "Enter value in degree celcius: 28\n",
      "28 in farhanites =  82.4\n"
     ]
    }
   ],
   "source": [
    "c = input(\"Enter value in degree celcius: \")\n",
    "f = (int (c)*9/5)+32\n",
    "print (c,\"in farhanites = \",f )"
   ]
  },
  {
   "cell_type": "markdown",
   "id": "939331d1-7418-4ca5-ac94-c2aa94b48274",
   "metadata": {},
   "source": [
    "# Q3:- Take 2 numbers as input from the user.Write a program to swap the numbers without using any special python syntax.\n"
   ]
  },
  {
   "cell_type": "code",
   "execution_count": 7,
   "id": "f23999aa-5e29-400e-a808-652b2a6df07a",
   "metadata": {},
   "outputs": [
    {
     "name": "stdin",
     "output_type": "stream",
     "text": [
      "Enter first no.: 3\n",
      "Enter Second no.: 6\n"
     ]
    },
    {
     "name": "stdout",
     "output_type": "stream",
     "text": [
      "a= 6  And b= 3\n"
     ]
    }
   ],
   "source": [
    "a = input(\"Enter first no.:\")\n",
    "b = input(\"Enter Second no.:\")\n",
    "c = None\n",
    "\n",
    "c = a\n",
    "a = b\n",
    "b = c\n",
    "\n",
    "print(\"a=\",a,\" And b=\",b)"
   ]
  },
  {
   "cell_type": "markdown",
   "id": "a55cf806-3fdf-467b-ab5f-12ef1cb0dc8f",
   "metadata": {},
   "source": [
    "# Q4:- Write a program to find the euclidean distance between two coordinates.Take both the coordinates from the user as input."
   ]
  },
  {
   "cell_type": "code",
   "execution_count": 22,
   "id": "bd17e322-1d62-4dad-9382-b7b08416afc9",
   "metadata": {},
   "outputs": [
    {
     "name": "stdout",
     "output_type": "stream",
     "text": [
      "To find Euclidean Distance, please enter cordinates of x1, y1, x2, y2\n"
     ]
    },
    {
     "name": "stdin",
     "output_type": "stream",
     "text": [
      "x1 :  1\n",
      "y1 :  2\n",
      "x2 :  3\n",
      "y2 :  4\n"
     ]
    },
    {
     "name": "stdout",
     "output_type": "stream",
     "text": [
      "Euclidean Distance =  2.8284271247461903\n"
     ]
    }
   ],
   "source": [
    "print(\"To find Euclidean Distance, please enter cordinates of x1, y1, x2, y2\")\n",
    "x1, y1, x2, y2 = int(input(\"x1 : \")), int(input(\"y1 : \")), int(input(\"x2 : \")), int(input(\"y2 : \")) #stylish declaration ;)\n",
    "d = ( ((x2 - x1)**2) + ((y2 - y1)**2) )**(1/2) \n",
    "print(\"Euclidean Distance = \",d)"
   ]
  },
  {
   "cell_type": "markdown",
   "id": "80a01779-da06-4286-9936-cecaa1489999",
   "metadata": {},
   "source": [
    "# Q5:- Write a program to find the simple interest when the value of principle,rate of interest and time period is provided by the user.\n"
   ]
  },
  {
   "cell_type": "code",
   "execution_count": 25,
   "id": "eb16a09c-d890-4ec2-9e7c-0f9d4a252ca3",
   "metadata": {},
   "outputs": [
    {
     "name": "stdout",
     "output_type": "stream",
     "text": [
      "Enter values of Principle Amount, Interest Rate and Time Period\n"
     ]
    },
    {
     "name": "stdin",
     "output_type": "stream",
     "text": [
      "Principle Amount =  10000\n",
      " Interest Rate =  10\n",
      " Time Period(in years) =  10\n"
     ]
    },
    {
     "name": "stdout",
     "output_type": "stream",
     "text": [
      "Simple interest =  10000.0\n"
     ]
    }
   ],
   "source": [
    "print(\"Enter values of Principle Amount, Interest Rate and Time Period\")\n",
    "p , n , r = int(input(\"Principle Amount = \")), int(input(\" Interest Rate = \")), int(input(\" Time Period(in years) = \"))\n",
    "si = (p * n * r)/100\n",
    "print(\"Simple interest = \",si)"
   ]
  },
  {
   "cell_type": "code",
   "execution_count": null,
   "id": "46908280-9e3b-4281-be74-70ead0454967",
   "metadata": {},
   "outputs": [],
   "source": []
  }
 ],
 "metadata": {
  "kernelspec": {
   "display_name": "Python 3 (ipykernel)",
   "language": "python",
   "name": "python3"
  },
  "language_info": {
   "codemirror_mode": {
    "name": "ipython",
    "version": 3
   },
   "file_extension": ".py",
   "mimetype": "text/x-python",
   "name": "python",
   "nbconvert_exporter": "python",
   "pygments_lexer": "ipython3",
   "version": "3.11.5"
  }
 },
 "nbformat": 4,
 "nbformat_minor": 5
}
