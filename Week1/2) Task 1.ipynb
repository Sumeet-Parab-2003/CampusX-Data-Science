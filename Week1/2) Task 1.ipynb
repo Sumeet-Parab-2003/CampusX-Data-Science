{
 "cells": [
  {
   "cell_type": "markdown",
   "id": "915227e9",
   "metadata": {},
   "source": [
    "# Q1 :- Print the given strings as per stated format.\n",
    "### given"
   ]
  },
  {
   "cell_type": "code",
   "execution_count": 2,
   "id": "7a2b56de",
   "metadata": {},
   "outputs": [],
   "source": [
    "#\"Data\" \"Science\" \"Mentorship\" \"Program\" \n",
    "#\"By\" \"CampusX\""
   ]
  },
  {
   "cell_type": "code",
   "execution_count": 3,
   "id": "afba4a7d",
   "metadata": {},
   "outputs": [],
   "source": [
    "#Output\n",
    "# Data-Science-Mentorship-Program-started-By-CampusX"
   ]
  },
  {
   "cell_type": "code",
   "execution_count": 9,
   "id": "995ccb5a",
   "metadata": {},
   "outputs": [
    {
     "name": "stdout",
     "output_type": "stream",
     "text": [
      "Data-Science-Mentorship-Program-started-By-CampusX\n"
     ]
    }
   ],
   "source": [
    "print(\"Data\",\"Science\",\"Mentorship\",\"Program\",sep=\"-\",end=\"-started-\" )\n",
    "print (\"By\",\"CampusX\",sep=\"-\")"
   ]
  },
  {
   "cell_type": "markdown",
   "id": "385a073c",
   "metadata": {},
   "source": [
    "# Q2) WAP to convert celcius to farhanhite"
   ]
  },
  {
   "cell_type": "code",
   "execution_count": 16,
   "id": "7ff1cf50",
   "metadata": {},
   "outputs": [
    {
     "name": "stdout",
     "output_type": "stream",
     "text": [
      "Enter value in degree celcius: 28\n",
      "28 in farhanites =  82.4\n"
     ]
    }
   ],
   "source": [
    "c = input(\"Enter value in degree celcius: \")\n",
    "f = (int (c)*9/5)+32\n",
    "print (c,\"in farhanites = \",f )"
   ]
  },
  {
   "cell_type": "markdown",
   "id": "939331d1-7418-4ca5-ac94-c2aa94b48274",
   "metadata": {},
   "source": [
    "# Q3:- Take 2 numbers as input from the user.Write a program to swap the numbers without using any special python syntax.\n"
   ]
  },
  {
   "cell_type": "code",
   "execution_count": 7,
   "id": "f23999aa-5e29-400e-a808-652b2a6df07a",
   "metadata": {},
   "outputs": [
    {
     "name": "stdin",
     "output_type": "stream",
     "text": [
      "Enter first no.: 3\n",
      "Enter Second no.: 6\n"
     ]
    },
    {
     "name": "stdout",
     "output_type": "stream",
     "text": [
      "a= 6  And b= 3\n"
     ]
    }
   ],
   "source": [
    "a = input(\"Enter first no.:\")\n",
    "b = input(\"Enter Second no.:\")\n",
    "c = None\n",
    "\n",
    "c = a\n",
    "a = b\n",
    "b = c\n",
    "\n",
    "print(\"a=\",a,\" And b=\",b)"
   ]
  },
  {
   "cell_type": "code",
   "execution_count": null,
   "id": "cd13da55-39f3-4dd4-a2a2-7daf9c914538",
   "metadata": {},
   "outputs": [],
   "source": []
  }
 ],
 "metadata": {
  "kernelspec": {
   "display_name": "Python 3 (ipykernel)",
   "language": "python",
   "name": "python3"
  },
  "language_info": {
   "codemirror_mode": {
    "name": "ipython",
    "version": 3
   },
   "file_extension": ".py",
   "mimetype": "text/x-python",
   "name": "python",
   "nbconvert_exporter": "python",
   "pygments_lexer": "ipython3",
   "version": "3.12.1"
  }
 },
 "nbformat": 4,
 "nbformat_minor": 5
}
