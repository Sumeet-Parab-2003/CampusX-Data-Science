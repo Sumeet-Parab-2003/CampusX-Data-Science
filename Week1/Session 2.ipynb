{
 "cells": [
  {
   "cell_type": "markdown",
   "id": "781f4a1b",
   "metadata": {},
   "source": [
    "# Operators in Python\n",
    "* Arithmetic Operators\n",
    "* Relational Operators\n",
    "* Logical Operators\n",
    "* Bitwise Operators\n",
    "* Assignment Operators\n",
    "* Membership Operators"
   ]
  },
  {
   "cell_type": "code",
   "execution_count": 2,
   "id": "130d36b8",
   "metadata": {},
   "outputs": [
    {
     "name": "stdout",
     "output_type": "stream",
     "text": [
      "7\n",
      "3\n",
      "10\n",
      "2.5\n",
      "2\n",
      "1\n"
     ]
    }
   ],
   "source": [
    "#arithmatic operators\n",
    "print(5+2)\n",
    "print(5-2)\n",
    "print(5*2)\n",
    "print(5/2)\n",
    "print(5//2)  #integer division operator\n",
    "print(5%2)\n",
    "print(5**2)  #a^b"
   ]
  },
  {
   "cell_type": "code",
   "execution_count": 4,
   "id": "baca1004",
   "metadata": {},
   "outputs": [
    {
     "name": "stdout",
     "output_type": "stream",
     "text": [
      "True\n",
      "False\n",
      "True\n",
      "False\n",
      "False\n",
      "True\n"
     ]
    }
   ],
   "source": [
    "#Relational Operators\n",
    "print(5>2)\n",
    "print(5<2)\n",
    "print(5>=2)\n",
    "print(5<=2)\n",
    "print(5==2)\n",
    "print(5!=2)"
   ]
  },
  {
   "cell_type": "code",
   "execution_count": 8,
   "id": "575e2a67",
   "metadata": {},
   "outputs": [
    {
     "name": "stdout",
     "output_type": "stream",
     "text": [
      "and\n",
      "1\n",
      "0\n",
      "0\n",
      "0 \n",
      "\n",
      "Or\n",
      "1\n",
      "1\n",
      "1\n",
      "0 \n",
      "\n",
      "not\n",
      "False\n",
      "True\n"
     ]
    }
   ],
   "source": [
    "#Logical Operators\n",
    "print('and')\n",
    "print(1 and 1)\n",
    "print(1 and 0)\n",
    "print(0 and 1)\n",
    "print(0 and 0,\"\\n\")\n",
    "\n",
    "print('Or')\n",
    "print(1 or 1)\n",
    "print(1 or 0)\n",
    "print(0 or 1)\n",
    "print(0 or 0,\"\\n\")\n",
    "\n",
    "print('not')\n",
    "print(not 1)\n",
    "print(not 0)\n"
   ]
  },
  {
   "cell_type": "code",
   "execution_count": 9,
   "id": "df0472a9",
   "metadata": {},
   "outputs": [
    {
     "name": "stdout",
     "output_type": "stream",
     "text": [
      "2\n",
      "3\n",
      "1\n",
      "-4\n",
      "0\n",
      "16\n"
     ]
    }
   ],
   "source": [
    "#Bitwise Operators\n",
    "print( 2 & 3 )\n",
    "print( 2 | 3 )\n",
    "print( 2 ^ 3 )\n",
    "print( ~ 3 )\n",
    "print( 2 >> 3 )\n",
    "print( 2 << 3 )\n"
   ]
  },
  {
   "cell_type": "code",
   "execution_count": 13,
   "id": "f81b5753",
   "metadata": {},
   "outputs": [
    {
     "name": "stdout",
     "output_type": "stream",
     "text": [
      "10\n"
     ]
    }
   ],
   "source": [
    "#Assignment Operators\n",
    "a = 5\n",
    "\n",
    "a+=5   #a = a+5\n",
    "print(a)\n",
    "\n",
    "#a++ and a-- doesnt work in python so write a+=1 instead"
   ]
  },
  {
   "cell_type": "code",
   "execution_count": 15,
   "id": "575d00d9",
   "metadata": {},
   "outputs": [
    {
     "name": "stdout",
     "output_type": "stream",
     "text": [
      "True\n",
      "False\n"
     ]
    }
   ],
   "source": [
    "#Membership Operators\n",
    "\n",
    "#in/not in\n",
    "print(\"e\" in 'sumeet')\n",
    "print ('e' not in \"sumeet\")"
   ]
  },
  {
   "cell_type": "code",
   "execution_count": null,
   "id": "54b863a0",
   "metadata": {},
   "outputs": [],
   "source": []
  }
 ],
 "metadata": {
  "kernelspec": {
   "display_name": "Python 3 (ipykernel)",
   "language": "python",
   "name": "python3"
  },
  "language_info": {
   "codemirror_mode": {
    "name": "ipython",
    "version": 3
   },
   "file_extension": ".py",
   "mimetype": "text/x-python",
   "name": "python",
   "nbconvert_exporter": "python",
   "pygments_lexer": "ipython3",
   "version": "3.12.1"
  }
 },
 "nbformat": 4,
 "nbformat_minor": 5
}
