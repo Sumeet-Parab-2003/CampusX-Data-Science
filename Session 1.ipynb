{
 "cells": [
  {
   "cell_type": "markdown",
   "id": "56b768b7",
   "metadata": {},
   "source": [
    "# Different Types of Output"
   ]
  },
  {
   "cell_type": "code",
   "execution_count": 1,
   "id": "14ddfd7c",
   "metadata": {},
   "outputs": [
    {
     "name": "stdout",
     "output_type": "stream",
     "text": [
      "Hello World\n"
     ]
    }
   ],
   "source": [
    "print(\"Hello World\")"
   ]
  },
  {
   "cell_type": "code",
   "execution_count": 2,
   "id": "dcf56173",
   "metadata": {},
   "outputs": [
    {
     "name": "stdout",
     "output_type": "stream",
     "text": [
      "1\n"
     ]
    }
   ],
   "source": [
    "print(1)"
   ]
  },
  {
   "cell_type": "code",
   "execution_count": 3,
   "id": "13edd159",
   "metadata": {},
   "outputs": [
    {
     "name": "stdout",
     "output_type": "stream",
     "text": [
      "11\n"
     ]
    }
   ],
   "source": [
    "print(10+1)"
   ]
  },
  {
   "cell_type": "code",
   "execution_count": 4,
   "id": "43b72de1",
   "metadata": {},
   "outputs": [
    {
     "name": "stdout",
     "output_type": "stream",
     "text": [
      "7.7\n"
     ]
    }
   ],
   "source": [
    "print(7.7)"
   ]
  },
  {
   "cell_type": "code",
   "execution_count": 5,
   "id": "f061c770",
   "metadata": {},
   "outputs": [
    {
     "name": "stdout",
     "output_type": "stream",
     "text": [
      "True\n"
     ]
    }
   ],
   "source": [
    "print(True)"
   ]
  },
  {
   "cell_type": "code",
   "execution_count": 7,
   "id": "bf215f02",
   "metadata": {},
   "outputs": [
    {
     "name": "stdout",
     "output_type": "stream",
     "text": [
      "Sumeet 4 4.4 True\n"
     ]
    }
   ],
   "source": [
    "print(\"Sumeet\",4,4.4,True)\n",
    "#here by default \"sep= \".hence, it will print spaes between the data types"
   ]
  },
  {
   "cell_type": "code",
   "execution_count": 9,
   "id": "d3874c46",
   "metadata": {},
   "outputs": [
    {
     "name": "stdout",
     "output_type": "stream",
     "text": [
      "Sumeet/4/4.4/True\n"
     ]
    }
   ],
   "source": [
    "print(\"Sumeet\",4,4.4,True,sep=\"/\")\n",
    "#here we've defined sep=\"/\""
   ]
  },
  {
   "cell_type": "markdown",
   "id": "938e2260",
   "metadata": {},
   "source": [
    "# Data Types"
   ]
  },
  {
   "cell_type": "code",
   "execution_count": 25,
   "id": "da2b4f21",
   "metadata": {},
   "outputs": [
    {
     "name": "stdout",
     "output_type": "stream",
     "text": [
      "69\n",
      "6.9\n",
      "True\n",
      "Sumeet is aspiring Data Scientist\n",
      "(6+9j)\n",
      "[1, 3, 5, 7, 9]\n",
      "(1, 2, 3, 5)\n",
      "{1, 2, 3, 4, 5, 6}\n",
      "{'name': 'Sumeet', 'age': 20, 'Caree': 'SDE/Data Scientist'}\n"
     ]
    }
   ],
   "source": [
    "#integers\n",
    "print(69)\n",
    "\n",
    "#float\n",
    "print(6.9)\n",
    "\n",
    "#boolean\n",
    "print(True)\n",
    "\n",
    "#String\n",
    "print(\"Sumeet is aspiring Data Scientist\")\n",
    "\n",
    "#complex\n",
    "print(6+9j)\n",
    "\n",
    "#List \n",
    "a=([1,3,5,7,9])\n",
    "print(a)\n",
    "\n",
    "#tuples\n",
    "a=(1,2,3,5)\n",
    "print(a)\n",
    "\n",
    "#sets\n",
    "print({1,2,3,4,5,6})\n",
    "\n",
    "#dictionary\n",
    "a = ({'name':'Sumeet','age': 19+1, 'Caree': \"SDE/Data Scientist\"})\n",
    "print(a)"
   ]
  },
  {
   "cell_type": "code",
   "execution_count": 32,
   "id": "7db4a02a",
   "metadata": {},
   "outputs": [
    {
     "name": "stdout",
     "output_type": "stream",
     "text": [
      "<class 'int'>\n",
      "<class 'float'>\n",
      "<class 'set'>\n",
      "<class 'list'>\n",
      "<class 'bool'>\n"
     ]
    }
   ],
   "source": [
    "#type\n",
    "print(type(1))\n",
    "print(type(1.1))\n",
    "print(type({1,3,5,6}))\n",
    "print(type([1,2,3,4]))\n",
    "print(type(True))\n"
   ]
  },
  {
   "cell_type": "markdown",
   "id": "28a48184",
   "metadata": {},
   "source": [
    "# Variables\n",
    "* Stylish declaration of variables\n",
    "* Static Typing Vs Dynamic Typing\n",
    "* Static Binding Vs Dynamic Binding\n"
   ]
  },
  {
   "cell_type": "code",
   "execution_count": 37,
   "id": "a3ab6265",
   "metadata": {},
   "outputs": [
    {
     "name": "stdout",
     "output_type": "stream",
     "text": [
      "sumeet\n",
      "7 = Thala for a reason\n"
     ]
    }
   ],
   "source": [
    "#declaration of varialbles\n",
    "name = 'sumeet'\n",
    "print(name)\n",
    "\n",
    "a=1\n",
    "b=2\n",
    "c=4\n",
    "print(a+b+c,\"= Thala for a reason\")"
   ]
  },
  {
   "cell_type": "code",
   "execution_count": 38,
   "id": "611fbed9",
   "metadata": {},
   "outputs": [
    {
     "name": "stdout",
     "output_type": "stream",
     "text": [
      "7 = Thala for a reason\n",
      "15 != Thala for a reason\n"
     ]
    }
   ],
   "source": [
    "#stylish Declaration of variables\n",
    "a,b,c = 1,2,4\n",
    "print(a+b+c,\"= Thala for a reason\")\n",
    "\n",
    "a=b=c=5\n",
    "print(a+b+c,\"!= Thala for a reason\")"
   ]
  },
  {
   "cell_type": "code",
   "execution_count": 39,
   "id": "a4323241",
   "metadata": {},
   "outputs": [],
   "source": [
    "#Static Typing in C++,JAVA means defining data type of variable before declaring it\n",
    "#int a = 1;\n",
    "#string =\"sumeet\";\n",
    "\n",
    "#Dynamic Binding in Python means it's not necessary to define variable's data type\n",
    "a = 99\n",
    "name ='sumeet'"
   ]
  },
  {
   "cell_type": "code",
   "execution_count": null,
   "id": "a650c157",
   "metadata": {},
   "outputs": [],
   "source": [
    "#dynamic Binding\n",
    "a=2\n",
    "print(a)\n",
    "a=7"
   ]
  }
 ],
 "metadata": {
  "kernelspec": {
   "display_name": "Python 3 (ipykernel)",
   "language": "python",
   "name": "python3"
  },
  "language_info": {
   "codemirror_mode": {
    "name": "ipython",
    "version": 3
   },
   "file_extension": ".py",
   "mimetype": "text/x-python",
   "name": "python",
   "nbconvert_exporter": "python",
   "pygments_lexer": "ipython3",
   "version": "3.11.5"
  }
 },
 "nbformat": 4,
 "nbformat_minor": 5
}
