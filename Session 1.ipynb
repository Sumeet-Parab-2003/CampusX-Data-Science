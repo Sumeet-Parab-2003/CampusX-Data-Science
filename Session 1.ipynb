{
 "cells": [
  {
   "cell_type": "markdown",
   "id": "1c5148a9",
   "metadata": {},
   "source": [
    "# Different Types of Output"
   ]
  },
  {
   "cell_type": "code",
   "execution_count": 1,
   "id": "8971473e",
   "metadata": {},
   "outputs": [
    {
     "name": "stdout",
     "output_type": "stream",
     "text": [
      "Hello World\n"
     ]
    }
   ],
   "source": [
    "print(\"Hello World\")"
   ]
  },
  {
   "cell_type": "code",
   "execution_count": 2,
   "id": "7bf24342",
   "metadata": {},
   "outputs": [
    {
     "name": "stdout",
     "output_type": "stream",
     "text": [
      "1\n"
     ]
    }
   ],
   "source": [
    "print(1)"
   ]
  },
  {
   "cell_type": "code",
   "execution_count": 3,
   "id": "fc9cd0e1",
   "metadata": {},
   "outputs": [
    {
     "name": "stdout",
     "output_type": "stream",
     "text": [
      "11\n"
     ]
    }
   ],
   "source": [
    "print(10+1)"
   ]
  },
  {
   "cell_type": "code",
   "execution_count": 4,
   "id": "76a08611",
   "metadata": {},
   "outputs": [
    {
     "name": "stdout",
     "output_type": "stream",
     "text": [
      "7.7\n"
     ]
    }
   ],
   "source": [
    "print(7.7)"
   ]
  },
  {
   "cell_type": "code",
   "execution_count": 5,
   "id": "9bc3e909",
   "metadata": {},
   "outputs": [
    {
     "name": "stdout",
     "output_type": "stream",
     "text": [
      "True\n"
     ]
    }
   ],
   "source": [
    "print(True)"
   ]
  },
  {
   "cell_type": "code",
   "execution_count": 7,
   "id": "ee5e38b2",
   "metadata": {},
   "outputs": [
    {
     "name": "stdout",
     "output_type": "stream",
     "text": [
      "Sumeet 4 4.4 True\n"
     ]
    }
   ],
   "source": [
    "print(\"Sumeet\",4,4.4,True)\n",
    "#here by default \"sep= \".hence, it will print spaes between the data types"
   ]
  },
  {
   "cell_type": "code",
   "execution_count": 9,
   "id": "10f4d516",
   "metadata": {},
   "outputs": [
    {
     "name": "stdout",
     "output_type": "stream",
     "text": [
      "Sumeet/4/4.4/True\n"
     ]
    }
   ],
   "source": [
    "print(\"Sumeet\",4,4.4,True,sep=\"/\")\n",
    "#here we've defined sep=\"/\""
   ]
  },
  {
   "cell_type": "markdown",
   "id": "8596884b",
   "metadata": {},
   "source": [
    "# Data Types"
   ]
  },
  {
   "cell_type": "code",
   "execution_count": 25,
   "id": "bb013693",
   "metadata": {},
   "outputs": [
    {
     "name": "stdout",
     "output_type": "stream",
     "text": [
      "69\n",
      "6.9\n",
      "True\n",
      "Sumeet is aspiring Data Scientist\n",
      "(6+9j)\n",
      "[1, 3, 5, 7, 9]\n",
      "(1, 2, 3, 5)\n",
      "{1, 2, 3, 4, 5, 6}\n",
      "{'name': 'Sumeet', 'age': 20, 'Caree': 'SDE/Data Scientist'}\n"
     ]
    }
   ],
   "source": [
    "#integers\n",
    "print(69)\n",
    "\n",
    "#float\n",
    "print(6.9)\n",
    "\n",
    "#boolean\n",
    "print(True)\n",
    "\n",
    "#String\n",
    "print(\"Sumeet is aspiring Data Scientist\")\n",
    "\n",
    "#complex\n",
    "print(6+9j)\n",
    "\n",
    "#List \n",
    "a=([1,3,5,7,9])\n",
    "print(a)\n",
    "\n",
    "#tuples\n",
    "a=(1,2,3,5)\n",
    "print(a)\n",
    "\n",
    "#sets\n",
    "print({1,2,3,4,5,6})\n",
    "\n",
    "#dictionary\n",
    "a = ({'name':'Sumeet','age': 19+1, 'Caree': \"SDE/Data Scientist\"})\n",
    "print(a)"
   ]
  },
  {
   "cell_type": "code",
   "execution_count": 31,
   "id": "00656e9a",
   "metadata": {},
   "outputs": [
    {
     "name": "stdout",
     "output_type": "stream",
     "text": [
      "<class 'int'>\n",
      "<class 'float'>\n",
      "<class 'set'>\n",
      "<class 'list'>\n",
      "<class 'int'>\n"
     ]
    }
   ],
   "source": [
    "#type\n",
    "print(type(1))\n",
    "print(type(1.1))\n",
    "print(type({1,3,5,6}))\n",
    "print(type([1,2,3,4]))\n",
    "print(type())\n"
   ]
  },
  {
   "cell_type": "code",
   "execution_count": null,
   "id": "b5468118",
   "metadata": {},
   "outputs": [],
   "source": []
  }
 ],
 "metadata": {
  "kernelspec": {
   "display_name": "Python 3 (ipykernel)",
   "language": "python",
   "name": "python3"
  },
  "language_info": {
   "codemirror_mode": {
    "name": "ipython",
    "version": 3
   },
   "file_extension": ".py",
   "mimetype": "text/x-python",
   "name": "python",
   "nbconvert_exporter": "python",
   "pygments_lexer": "ipython3",
   "version": "3.11.5"
  }
 },
 "nbformat": 4,
 "nbformat_minor": 5
}
